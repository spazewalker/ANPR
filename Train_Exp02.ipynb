{
  "cells": [
    {
      "cell_type": "markdown",
      "metadata": {
        "id": "RzIhAijO2pc6"
      },
      "source": [
        "# Automatic Numper Plate Recognition\n",
        "\n",
        "We are going to use YOLOv5 for object detection. So, here we clone the ultralytics yolo5 repo and setup the environment.\n",
        "\n",
        "*I'm going to use Google colab wit GPU to perform the training*"
      ]
    },
    {
      "cell_type": "code",
      "execution_count": 1,
      "metadata": {
        "colab": {
          "base_uri": "https://localhost:8080/"
        },
        "id": "6ZGIzOCq2pc-",
        "outputId": "e247b149-a444-4349-f407-25b38c2e1b5d"
      },
      "outputs": [
        {
          "name": "stdout",
          "output_type": "stream",
          "text": [
            "Cloning into 'yolov5'...\n",
            "remote: Enumerating objects: 10327, done.\u001b[K\n",
            "remote: Total 10327 (delta 0), reused 0 (delta 0), pack-reused 10327\u001b[K\n",
            "Receiving objects: 100% (10327/10327), 10.57 MiB | 22.78 MiB/s, done.\n",
            "Resolving deltas: 100% (7130/7130), done.\n",
            "Requirement already satisfied: matplotlib>=3.2.2 in /usr/local/lib/python3.7/dist-packages (from -r yolov5/requirements.txt (line 4)) (3.2.2)\n",
            "Requirement already satisfied: numpy>=1.18.5 in /usr/local/lib/python3.7/dist-packages (from -r yolov5/requirements.txt (line 5)) (1.19.5)\n",
            "Requirement already satisfied: opencv-python>=4.1.2 in /usr/local/lib/python3.7/dist-packages (from -r yolov5/requirements.txt (line 6)) (4.1.2.30)\n",
            "Requirement already satisfied: Pillow>=7.1.2 in /usr/local/lib/python3.7/dist-packages (from -r yolov5/requirements.txt (line 7)) (7.1.2)\n",
            "Collecting PyYAML>=5.3.1\n",
            "  Downloading PyYAML-6.0-cp37-cp37m-manylinux_2_5_x86_64.manylinux1_x86_64.manylinux_2_12_x86_64.manylinux2010_x86_64.whl (596 kB)\n",
            "\u001b[K     |████████████████████████████████| 596 kB 5.4 MB/s \n",
            "\u001b[?25hRequirement already satisfied: requests>=2.23.0 in /usr/local/lib/python3.7/dist-packages (from -r yolov5/requirements.txt (line 9)) (2.23.0)\n",
            "Requirement already satisfied: scipy>=1.4.1 in /usr/local/lib/python3.7/dist-packages (from -r yolov5/requirements.txt (line 10)) (1.4.1)\n",
            "Requirement already satisfied: torch>=1.7.0 in /usr/local/lib/python3.7/dist-packages (from -r yolov5/requirements.txt (line 11)) (1.10.0+cu111)\n",
            "Requirement already satisfied: torchvision>=0.8.1 in /usr/local/lib/python3.7/dist-packages (from -r yolov5/requirements.txt (line 12)) (0.11.1+cu111)\n",
            "Requirement already satisfied: tqdm>=4.41.0 in /usr/local/lib/python3.7/dist-packages (from -r yolov5/requirements.txt (line 13)) (4.62.3)\n",
            "Requirement already satisfied: tensorboard>=2.4.1 in /usr/local/lib/python3.7/dist-packages (from -r yolov5/requirements.txt (line 16)) (2.7.0)\n",
            "Requirement already satisfied: pandas>=1.1.4 in /usr/local/lib/python3.7/dist-packages (from -r yolov5/requirements.txt (line 20)) (1.1.5)\n",
            "Requirement already satisfied: seaborn>=0.11.0 in /usr/local/lib/python3.7/dist-packages (from -r yolov5/requirements.txt (line 21)) (0.11.2)\n",
            "Collecting thop\n",
            "  Downloading thop-0.0.31.post2005241907-py3-none-any.whl (8.7 kB)\n",
            "Requirement already satisfied: python-dateutil>=2.1 in /usr/local/lib/python3.7/dist-packages (from matplotlib>=3.2.2->-r yolov5/requirements.txt (line 4)) (2.8.2)\n",
            "Requirement already satisfied: pyparsing!=2.0.4,!=2.1.2,!=2.1.6,>=2.0.1 in /usr/local/lib/python3.7/dist-packages (from matplotlib>=3.2.2->-r yolov5/requirements.txt (line 4)) (3.0.6)\n",
            "Requirement already satisfied: kiwisolver>=1.0.1 in /usr/local/lib/python3.7/dist-packages (from matplotlib>=3.2.2->-r yolov5/requirements.txt (line 4)) (1.3.2)\n",
            "Requirement already satisfied: cycler>=0.10 in /usr/local/lib/python3.7/dist-packages (from matplotlib>=3.2.2->-r yolov5/requirements.txt (line 4)) (0.11.0)\n",
            "Requirement already satisfied: chardet<4,>=3.0.2 in /usr/local/lib/python3.7/dist-packages (from requests>=2.23.0->-r yolov5/requirements.txt (line 9)) (3.0.4)\n",
            "Requirement already satisfied: urllib3!=1.25.0,!=1.25.1,<1.26,>=1.21.1 in /usr/local/lib/python3.7/dist-packages (from requests>=2.23.0->-r yolov5/requirements.txt (line 9)) (1.24.3)\n",
            "Requirement already satisfied: idna<3,>=2.5 in /usr/local/lib/python3.7/dist-packages (from requests>=2.23.0->-r yolov5/requirements.txt (line 9)) (2.10)\n",
            "Requirement already satisfied: certifi>=2017.4.17 in /usr/local/lib/python3.7/dist-packages (from requests>=2.23.0->-r yolov5/requirements.txt (line 9)) (2021.10.8)\n",
            "Requirement already satisfied: typing-extensions in /usr/local/lib/python3.7/dist-packages (from torch>=1.7.0->-r yolov5/requirements.txt (line 11)) (3.10.0.2)\n",
            "Requirement already satisfied: markdown>=2.6.8 in /usr/local/lib/python3.7/dist-packages (from tensorboard>=2.4.1->-r yolov5/requirements.txt (line 16)) (3.3.6)\n",
            "Requirement already satisfied: setuptools>=41.0.0 in /usr/local/lib/python3.7/dist-packages (from tensorboard>=2.4.1->-r yolov5/requirements.txt (line 16)) (57.4.0)\n",
            "Requirement already satisfied: tensorboard-plugin-wit>=1.6.0 in /usr/local/lib/python3.7/dist-packages (from tensorboard>=2.4.1->-r yolov5/requirements.txt (line 16)) (1.8.0)\n",
            "Requirement already satisfied: protobuf>=3.6.0 in /usr/local/lib/python3.7/dist-packages (from tensorboard>=2.4.1->-r yolov5/requirements.txt (line 16)) (3.17.3)\n",
            "Requirement already satisfied: tensorboard-data-server<0.7.0,>=0.6.0 in /usr/local/lib/python3.7/dist-packages (from tensorboard>=2.4.1->-r yolov5/requirements.txt (line 16)) (0.6.1)\n",
            "Requirement already satisfied: google-auth-oauthlib<0.5,>=0.4.1 in /usr/local/lib/python3.7/dist-packages (from tensorboard>=2.4.1->-r yolov5/requirements.txt (line 16)) (0.4.6)\n",
            "Requirement already satisfied: werkzeug>=0.11.15 in /usr/local/lib/python3.7/dist-packages (from tensorboard>=2.4.1->-r yolov5/requirements.txt (line 16)) (1.0.1)\n",
            "Requirement already satisfied: google-auth<3,>=1.6.3 in /usr/local/lib/python3.7/dist-packages (from tensorboard>=2.4.1->-r yolov5/requirements.txt (line 16)) (1.35.0)\n",
            "Requirement already satisfied: grpcio>=1.24.3 in /usr/local/lib/python3.7/dist-packages (from tensorboard>=2.4.1->-r yolov5/requirements.txt (line 16)) (1.42.0)\n",
            "Requirement already satisfied: wheel>=0.26 in /usr/local/lib/python3.7/dist-packages (from tensorboard>=2.4.1->-r yolov5/requirements.txt (line 16)) (0.37.0)\n",
            "Requirement already satisfied: absl-py>=0.4 in /usr/local/lib/python3.7/dist-packages (from tensorboard>=2.4.1->-r yolov5/requirements.txt (line 16)) (0.12.0)\n",
            "Requirement already satisfied: pytz>=2017.2 in /usr/local/lib/python3.7/dist-packages (from pandas>=1.1.4->-r yolov5/requirements.txt (line 20)) (2018.9)\n",
            "Requirement already satisfied: six in /usr/local/lib/python3.7/dist-packages (from absl-py>=0.4->tensorboard>=2.4.1->-r yolov5/requirements.txt (line 16)) (1.15.0)\n",
            "Requirement already satisfied: rsa<5,>=3.1.4 in /usr/local/lib/python3.7/dist-packages (from google-auth<3,>=1.6.3->tensorboard>=2.4.1->-r yolov5/requirements.txt (line 16)) (4.8)\n",
            "Requirement already satisfied: pyasn1-modules>=0.2.1 in /usr/local/lib/python3.7/dist-packages (from google-auth<3,>=1.6.3->tensorboard>=2.4.1->-r yolov5/requirements.txt (line 16)) (0.2.8)\n",
            "Requirement already satisfied: cachetools<5.0,>=2.0.0 in /usr/local/lib/python3.7/dist-packages (from google-auth<3,>=1.6.3->tensorboard>=2.4.1->-r yolov5/requirements.txt (line 16)) (4.2.4)\n",
            "Requirement already satisfied: requests-oauthlib>=0.7.0 in /usr/local/lib/python3.7/dist-packages (from google-auth-oauthlib<0.5,>=0.4.1->tensorboard>=2.4.1->-r yolov5/requirements.txt (line 16)) (1.3.0)\n",
            "Requirement already satisfied: importlib-metadata>=4.4 in /usr/local/lib/python3.7/dist-packages (from markdown>=2.6.8->tensorboard>=2.4.1->-r yolov5/requirements.txt (line 16)) (4.8.2)\n",
            "Requirement already satisfied: zipp>=0.5 in /usr/local/lib/python3.7/dist-packages (from importlib-metadata>=4.4->markdown>=2.6.8->tensorboard>=2.4.1->-r yolov5/requirements.txt (line 16)) (3.6.0)\n",
            "Requirement already satisfied: pyasn1<0.5.0,>=0.4.6 in /usr/local/lib/python3.7/dist-packages (from pyasn1-modules>=0.2.1->google-auth<3,>=1.6.3->tensorboard>=2.4.1->-r yolov5/requirements.txt (line 16)) (0.4.8)\n",
            "Requirement already satisfied: oauthlib>=3.0.0 in /usr/local/lib/python3.7/dist-packages (from requests-oauthlib>=0.7.0->google-auth-oauthlib<0.5,>=0.4.1->tensorboard>=2.4.1->-r yolov5/requirements.txt (line 16)) (3.1.1)\n",
            "Installing collected packages: thop, PyYAML\n",
            "  Attempting uninstall: PyYAML\n",
            "    Found existing installation: PyYAML 3.13\n",
            "    Uninstalling PyYAML-3.13:\n",
            "      Successfully uninstalled PyYAML-3.13\n",
            "Successfully installed PyYAML-6.0 thop-0.0.31.post2005241907\n"
          ]
        }
      ],
      "source": [
        "!git clone https://github.com/ultralytics/yolov5\n",
        "!pip install -r yolov5/requirements.txt"
      ]
    },
    {
      "cell_type": "markdown",
      "metadata": {
        "id": "vIkrwR-h8FBk"
      },
      "source": [
        "Import all required modules."
      ]
    },
    {
      "cell_type": "code",
      "execution_count": 2,
      "metadata": {
        "colab": {
          "base_uri": "https://localhost:8080/"
        },
        "id": "kA6IPfbP2pdA",
        "outputId": "dfceaa4d-2229-4487-d6da-3e591f77f90e"
      },
      "outputs": [
        {
          "name": "stdout",
          "output_type": "stream",
          "text": [
            "torch 1.10.0+cu111 _CudaDeviceProperties(name='Tesla K80', major=3, minor=7, total_memory=11441MB, multi_processor_count=13)\n"
          ]
        }
      ],
      "source": [
        "import torch\n",
        "from IPython.display import Image  # for displaying images\n",
        "import os \n",
        "import random\n",
        "import shutil\n",
        "from sklearn.model_selection import train_test_split\n",
        "import xml.etree.ElementTree as ET\n",
        "from tqdm import tqdm\n",
        "from PIL import Image, ImageDraw\n",
        "import numpy as np\n",
        "import matplotlib.pyplot as plt\n",
        "\n",
        "random.seed(0)\n",
        "\n",
        "print('torch %s %s' % (torch.__version__, torch.cuda.get_device_properties(0) if torch.cuda.is_available() else 'CPU'))"
      ]
    },
    {
      "cell_type": "markdown",
      "metadata": {
        "id": "XoyVxIJl8cod"
      },
      "source": [
        "Download the APNR dataset provided in the assesment from google drive and extract tarball."
      ]
    },
    {
      "cell_type": "code",
      "execution_count": 5,
      "metadata": {
        "colab": {
          "base_uri": "https://localhost:8080/"
        },
        "id": "eADM3AQ83Fcr",
        "outputId": "1afca1fd-4e87-497a-ac0f-2a6e3537485c"
      },
      "outputs": [
        {
          "name": "stdout",
          "output_type": "stream",
          "text": [
            "Downloading...\n",
            "From: https://drive.google.com/uc?id=11uZ5Y0i5SMvjdj3Un5mScDY-7lZeTuYp\n",
            "To: /content/ANPR_Assignment.tar.gz\n",
            "100% 23.0M/23.0M [00:00<00:00, 73.2MB/s]\n"
          ]
        }
      ],
      "source": [
        "!gdown --id 11uZ5Y0i5SMvjdj3Un5mScDY-7lZeTuYp\n",
        "!tar -xf ANPR_Assignment.tar.gz"
      ]
    },
    {
      "cell_type": "markdown",
      "metadata": {
        "id": "kRt26dpx8uXJ"
      },
      "source": [
        "The provided dataset is in VOC format. To use this data with YOLO we have to convert it in YOLO format. The difference between the two is the annotations file. \\\n",
        "\\\n",
        "In **VOC Format**, the annotations are saved as an XML file where the bounding boxes are described by using (xmin,ymin) and (xmax,ymax) points, i.e. the bottom left corner and the top right corner.\\\n",
        "However, In **YOLO Format**, the annotations(labels) are saved as a TXT file where the bounding boxes are decribed by (centerX,centerY), i.e. the coordinates of the center point(scaled by image size) and the width and height of the bbox.\n",
        "\n",
        "Here, we parse the xml file and read the 'bndbox' parameter along with filename and image size and return it."
      ]
    },
    {
      "cell_type": "code",
      "execution_count": 7,
      "metadata": {
        "id": "o_FiwxV-2pdB"
      },
      "outputs": [],
      "source": [
        "# Function to get the data from XML Annotation\n",
        "def extract_info_from_xml(xml_file):\n",
        "    root = ET.parse(xml_file).getroot()\n",
        "    \n",
        "    # Initialise the info dict \n",
        "    info_dict = {}\n",
        "    info_dict['bboxes'] = []\n",
        "\n",
        "    # Parse the XML Tree\n",
        "    for elem in root:\n",
        "        # Get the file name \n",
        "        if elem.tag == \"filename\":\n",
        "            info_dict['filename'] = elem.text\n",
        "            \n",
        "        # Get the image size\n",
        "        elif elem.tag == \"size\":\n",
        "            image_size = []\n",
        "            for subelem in elem:\n",
        "                image_size.append(int(subelem.text))\n",
        "            \n",
        "            info_dict['image_size'] = tuple(image_size)\n",
        "        \n",
        "        # Get details of the bounding box \n",
        "        elif elem.tag == \"object\":\n",
        "            bbox = {}\n",
        "            for subelem in elem:\n",
        "                if subelem.tag == \"name\":\n",
        "                    bbox[\"class\"] = subelem.text\n",
        "                    \n",
        "                elif subelem.tag == \"bndbox\":\n",
        "                    for subsubelem in subelem:\n",
        "                        bbox[subsubelem.tag] = int(subsubelem.text)            \n",
        "            info_dict['bboxes'].append(bbox)\n",
        "    \n",
        "    return info_dict"
      ]
    },
    {
      "cell_type": "markdown",
      "metadata": {
        "id": "d5NgMM13-EX6"
      },
      "source": [
        "Test it for `car_2.xml`"
      ]
    },
    {
      "cell_type": "code",
      "execution_count": 10,
      "metadata": {
        "colab": {
          "base_uri": "https://localhost:8080/"
        },
        "id": "h0fS27-z2pdB",
        "outputId": "d8297968-1bd4-4076-8d32-4cab76e932b5"
      },
      "outputs": [
        {
          "name": "stdout",
          "output_type": "stream",
          "text": [
            "{'bboxes': [{'class': 'license_plate', 'xmin': 40, 'ymin': 218, 'xmax': 115, 'ymax': 259}], 'filename': 'car_2.jpeg', 'image_size': (500, 314, 3)}\n"
          ]
        }
      ],
      "source": [
        "print(extract_info_from_xml('VOC2007/Annotations/car_2.xml'))"
      ]
    },
    {
      "cell_type": "markdown",
      "metadata": {
        "id": "DSYn75Zq-N_C"
      },
      "source": [
        "Define the function to convert the annotation format of our data."
      ]
    },
    {
      "cell_type": "code",
      "execution_count": 14,
      "metadata": {
        "id": "FxXwrjte2pdC"
      },
      "outputs": [],
      "source": [
        "# Dictionary that maps class names to IDs\n",
        "class_name_to_id_mapping = {\"license_plate\": 0}\n",
        "\n",
        "# Convert the info dict to the required yolo format and write it to disk\n",
        "def convert_to_yolov5(info_dict):\n",
        "    print_buffer = []\n",
        "    \n",
        "    # For each bounding box\n",
        "    for b in info_dict[\"bboxes\"]:\n",
        "        try:\n",
        "            class_id = class_name_to_id_mapping[b[\"class\"]]\n",
        "        except KeyError:\n",
        "            print(\"Invalid Class. Must be one from \", class_name_to_id_mapping.keys())\n",
        "        \n",
        "        # Transform the bbox co-ordinates as per the format required by YOLO v5\n",
        "        b_center_x = (b[\"xmin\"] + b[\"xmax\"]) / 2 \n",
        "        b_center_y = (b[\"ymin\"] + b[\"ymax\"]) / 2\n",
        "        b_width    = (b[\"xmax\"] - b[\"xmin\"])\n",
        "        b_height   = (b[\"ymax\"] - b[\"ymin\"])\n",
        "        \n",
        "        # Normalise the co-ordinates by the dimensions of the image\n",
        "        image_w, image_h, _ = info_dict[\"image_size\"]  \n",
        "        b_center_x /= image_w \n",
        "        b_center_y /= image_h \n",
        "        b_width    /= image_w \n",
        "        b_height   /= image_h \n",
        "        \n",
        "        #Write the bbox details to the file \n",
        "        print_buffer.append(\"{} {:.3f} {:.3f} {:.3f} {:.3f}\".format(class_id, b_center_x, b_center_y, b_width, b_height))\n",
        "        \n",
        "    # Name of the file which we have to save \n",
        "    save_file_name = os.path.join(\"VOC2007/Annotations\", info_dict[\"filename\"].replace(\"jpeg\", \"txt\"))\n",
        "    \n",
        "    # Save the annotation to disk\n",
        "    print(\"\\n\".join(print_buffer), file= open(save_file_name, \"w\"))"
      ]
    },
    {
      "cell_type": "markdown",
      "metadata": {
        "id": "Afc7qKPn-8dr"
      },
      "source": [
        "Convert each annotation file from VOC XML format to YOLO TXT format"
      ]
    },
    {
      "cell_type": "code",
      "execution_count": 15,
      "metadata": {
        "colab": {
          "base_uri": "https://localhost:8080/"
        },
        "id": "w7RxPwjN2pdC",
        "outputId": "c60c7583-b266-469c-8f41-9075093897df"
      },
      "outputs": [
        {
          "name": "stderr",
          "output_type": "stream",
          "text": [
            "100%|██████████| 669/669 [00:00<00:00, 4690.86it/s]\n"
          ]
        }
      ],
      "source": [
        "# Get the annotations\n",
        "annotations = [os.path.join('VOC2007/Annotations', x) for x in os.listdir('VOC2007/Annotations') if x[-3:] == \"xml\"]\n",
        "annotations.sort()\n",
        "\n",
        "# Convert and save the annotations\n",
        "for ann in tqdm(annotations):\n",
        "    info_dict = extract_info_from_xml(ann)\n",
        "    convert_to_yolov5(info_dict)\n",
        "annotations = [os.path.join('VOC2007/Annotations', x) for x in os.listdir('VOC2007/Annotations') if x[-3:] == \"txt\"]"
      ]
    },
    {
      "cell_type": "markdown",
      "metadata": {
        "id": "hQakxVkR_FTm"
      },
      "source": [
        "Try plotting a few examples to see if the conversion was done correctly"
      ]
    },
    {
      "cell_type": "code",
      "execution_count": null,
      "metadata": {
        "id": "Xop_ylbj2pdD"
      },
      "outputs": [],
      "source": [
        "random.seed(420)\n",
        "\n",
        "class_id_to_name_mapping = dict(zip(class_name_to_id_mapping.values(), class_name_to_id_mapping.keys()))\n",
        "print(class_id_to_name_mapping)\n",
        "\n",
        "def plot_bounding_box(image, annotation_list):\n",
        "    annotations = np.array(annotation_list)\n",
        "    w, h = image.size\n",
        "    \n",
        "    plotted_image = ImageDraw.Draw(image)\n",
        "\n",
        "    transformed_annotations = np.copy(annotations)\n",
        "    transformed_annotations[:,[1,3]] = annotations[:,[1,3]] * w\n",
        "    transformed_annotations[:,[2,4]] = annotations[:,[2,4]] * h \n",
        "    \n",
        "    transformed_annotations[:,1] = transformed_annotations[:,1] - (transformed_annotations[:,3] / 2)\n",
        "    transformed_annotations[:,2] = transformed_annotations[:,2] - (transformed_annotations[:,4] / 2)\n",
        "    transformed_annotations[:,3] = transformed_annotations[:,1] + transformed_annotations[:,3]\n",
        "    transformed_annotations[:,4] = transformed_annotations[:,2] + transformed_annotations[:,4]\n",
        "    \n",
        "    for ann in transformed_annotations:\n",
        "        obj_cls, x0, y0, x1, y1 = ann\n",
        "        plotted_image.rectangle(((x0,y0), (x1,y1)),outline=(255,0,0))\n",
        "        \n",
        "        plotted_image.text((x0, y0 - 10), class_id_to_name_mapping[(int(obj_cls))],fill=(255,0,0))\n",
        "    \n",
        "    plt.imshow(np.array(image))\n",
        "    plt.show()\n",
        "\n",
        "# Get any random annotation file \n",
        "annotation_file = random.choice(annotations)\n",
        "with open(annotation_file, \"r\") as file:\n",
        "    annotation_list = file.read().split(\"\\n\")[:-1]\n",
        "    annotation_list = [x.split(\" \") for x in annotation_list]\n",
        "    annotation_list = [[float(y) for y in x ] for x in annotation_list]\n",
        "\n",
        "#Get the corresponding image file\n",
        "image_file = annotation_file.replace(\"Annotations\", \"JPEGImages\").replace(\"txt\", \"jpg\")\n",
        "print(image_file)\n",
        "assert os.path.exists(image_file)\n",
        "\n",
        "#Load the image\n",
        "image = Image.open(image_file)\n",
        "\n",
        "#Plot the Bounding Box\n",
        "plot_bounding_box(image, annotation_list)\n"
      ]
    },
    {
      "cell_type": "markdown",
      "metadata": {
        "id": "IJjim0fH_P4d"
      },
      "source": [
        "The Conversion was correct. Now We split the trainval set to trainset and valset. And load trainset, valset and testset"
      ]
    },
    {
      "cell_type": "code",
      "execution_count": 18,
      "metadata": {
        "id": "OcE_N8le2pdE"
      },
      "outputs": [],
      "source": [
        "with open('VOC2007/ImageSets/Main/trainval.txt', 'r') as file:\n",
        "    train_list = file.read().split(\"\\n\")[:-1]\n",
        "train_list, val_list = train_test_split(train_list, test_size = 0.2, random_state = 1)\n",
        "with open('VOC2007/ImageSets/Main/test.txt', 'r') as file:\n",
        "    test_list = file.read().split(\"\\n\")[:-1]"
      ]
    },
    {
      "cell_type": "markdown",
      "metadata": {
        "id": "nSXRB8JKAALv"
      },
      "source": [
        "Convert names of files in the newly splitted dataset to file names corresponding to train, val, test images and annotations"
      ]
    },
    {
      "cell_type": "code",
      "execution_count": 22,
      "metadata": {
        "id": "8N56PP_v2pdE"
      },
      "outputs": [],
      "source": [
        "train_images = [os.path.join('VOC2007/JPEGImages', x+'.jpg') for x in train_list]\n",
        "train_annotations = [os.path.join('VOC2007/Annotations', x+\".txt\") for x in train_list]\n",
        "val_images = [os.path.join('VOC2007/JPEGImages', x+'.jpg') for x in val_list]\n",
        "val_annotations = [os.path.join('VOC2007/Annotations', x+\".txt\") for x in val_list]\n",
        "test_images = [os.path.join('VOC2007/JPEGImages', x+'.jpg') for x in test_list]\n",
        "test_annotations = [os.path.join('VOC2007/Annotations', x+\".txt\") for x in test_list]"
      ]
    },
    {
      "cell_type": "markdown",
      "metadata": {
        "id": "QQjeZ8UP_rFZ"
      },
      "source": [
        "Now, we move the images from VOC to YOLO folder so that yolo's train.py can find the images easily while training."
      ]
    },
    {
      "cell_type": "code",
      "execution_count": 23,
      "metadata": {
        "id": "OFEd3MnE2pdF"
      },
      "outputs": [],
      "source": [
        "#Utility function to move images \n",
        "def move_files_to_folder(list_of_files, destination_folder):\n",
        "    for f in list_of_files:\n",
        "        try:\n",
        "            shutil.move(f, destination_folder)\n",
        "        except:\n",
        "            print(f)\n",
        "            assert False\n",
        "\n",
        "# Move the splits into their folders\n",
        "!mkdir -p YOLO5/images/train YOLO5/images/val YOLO5/images/test YOLO5/annotations/train YOLO5/annotations/val YOLO5/annotations/test\n",
        "move_files_to_folder(train_images, 'YOLO5/images/train')\n",
        "move_files_to_folder(val_images, 'YOLO5/images/val/')\n",
        "move_files_to_folder(test_images, 'YOLO5/images/test/')\n",
        "move_files_to_folder(train_annotations, 'YOLO5/annotations/train/')\n",
        "move_files_to_folder(val_annotations, 'YOLO5/annotations/val/')\n",
        "move_files_to_folder(test_annotations, 'YOLO5/annotations/test/')"
      ]
    },
    {
      "cell_type": "markdown",
      "metadata": {
        "id": "df_95xAYAOQb"
      },
      "source": [
        "Also rename annotations as labels for YOLO to work properly. And cd into yolo folder."
      ]
    },
    {
      "cell_type": "code",
      "execution_count": 27,
      "metadata": {
        "colab": {
          "base_uri": "https://localhost:8080/"
        },
        "id": "a2cQ42N_2pdF",
        "outputId": "98a0c66d-eda0-41df-ee08-5d0821b403f6"
      },
      "outputs": [
        {
          "name": "stdout",
          "output_type": "stream",
          "text": [
            "/content\n",
            "/content/yolov5\n"
          ]
        }
      ],
      "source": [
        "%mv YOLO5/annotations YOLO5/labels\n",
        "%cd ./yolov5 "
      ]
    },
    {
      "cell_type": "markdown",
      "metadata": {
        "id": "sOU_0L2aAXCs"
      },
      "source": [
        "Create a new `data.yaml` file to describe the custom dataset we just prepared form the given VOC dataset"
      ]
    },
    {
      "cell_type": "code",
      "execution_count": 41,
      "metadata": {
        "id": "FEkK-5T52pdF"
      },
      "outputs": [],
      "source": [
        "with open('data.yaml', 'w+') as f:\n",
        "    f.write('path: ../YOLO5\\n')\n",
        "    f.write('train: images/train/\\n')\n",
        "    f.write('val: images/val/\\n')\n",
        "    f.write('test: images/test/\\n')\n",
        "    f.write('\\nnc: 1\\n')\n",
        "    f.write('\\nnames: [\"license_plate\"]\\n')"
      ]
    },
    {
      "cell_type": "markdown",
      "metadata": {
        "id": "BTGwMIDaAgA9"
      },
      "source": [
        "Check that yaml file is correct. Move it to `data` directory for yolo.py to find it."
      ]
    },
    {
      "cell_type": "code",
      "execution_count": 42,
      "metadata": {
        "colab": {
          "base_uri": "https://localhost:8080/"
        },
        "id": "GQZBDnPf2pdG",
        "outputId": "8db8ebc4-a545-4209-f388-981bcca95c77"
      },
      "outputs": [
        {
          "name": "stdout",
          "output_type": "stream",
          "text": [
            "path: ../YOLO5\n",
            "train: images/train/\n",
            "val: images/val/\n",
            "test: images/test/\n",
            "\n",
            "nc: 1\n",
            "\n",
            "names: [\"license_plate\"]\n"
          ]
        }
      ],
      "source": [
        "!cat data.yaml\n",
        "!mv data.yaml data/data.yaml"
      ]
    },
    {
      "cell_type": "markdown",
      "metadata": {
        "id": "xeZjAkpRAq-y"
      },
      "source": [
        "We'll use weights and biases to see our training progress."
      ]
    },
    {
      "cell_type": "code",
      "execution_count": 33,
      "metadata": {
        "colab": {
          "base_uri": "https://localhost:8080/"
        },
        "id": "TMqmTYWl2pdG",
        "outputId": "75ad86dd-c8e4-4f5b-bbe3-f4a89dd0d18c"
      },
      "outputs": [
        {
          "name": "stdout",
          "output_type": "stream",
          "text": [
            "Collecting wandb\n",
            "  Downloading wandb-0.12.9-py2.py3-none-any.whl (1.7 MB)\n",
            "\u001b[K     |████████████████████████████████| 1.7 MB 5.3 MB/s \n",
            "\u001b[?25hRequirement already satisfied: promise<3,>=2.0 in /usr/local/lib/python3.7/dist-packages (from wandb) (2.3)\n",
            "Collecting yaspin>=1.0.0\n",
            "  Downloading yaspin-2.1.0-py3-none-any.whl (18 kB)\n",
            "Requirement already satisfied: requests<3,>=2.0.0 in /usr/local/lib/python3.7/dist-packages (from wandb) (2.23.0)\n",
            "Collecting subprocess32>=3.5.3\n",
            "  Downloading subprocess32-3.5.4.tar.gz (97 kB)\n",
            "\u001b[K     |████████████████████████████████| 97 kB 6.8 MB/s \n",
            "\u001b[?25hRequirement already satisfied: Click!=8.0.0,>=7.0 in /usr/local/lib/python3.7/dist-packages (from wandb) (7.1.2)\n",
            "Collecting sentry-sdk>=1.0.0\n",
            "  Downloading sentry_sdk-1.5.1-py2.py3-none-any.whl (140 kB)\n",
            "\u001b[K     |████████████████████████████████| 140 kB 46.7 MB/s \n",
            "\u001b[?25hRequirement already satisfied: psutil>=5.0.0 in /usr/local/lib/python3.7/dist-packages (from wandb) (5.4.8)\n",
            "Collecting configparser>=3.8.1\n",
            "  Downloading configparser-5.2.0-py3-none-any.whl (19 kB)\n",
            "Requirement already satisfied: PyYAML in /usr/local/lib/python3.7/dist-packages (from wandb) (6.0)\n",
            "Collecting docker-pycreds>=0.4.0\n",
            "  Downloading docker_pycreds-0.4.0-py2.py3-none-any.whl (9.0 kB)\n",
            "Collecting shortuuid>=0.5.0\n",
            "  Downloading shortuuid-1.0.8-py3-none-any.whl (9.5 kB)\n",
            "Requirement already satisfied: python-dateutil>=2.6.1 in /usr/local/lib/python3.7/dist-packages (from wandb) (2.8.2)\n",
            "Collecting GitPython>=1.0.0\n",
            "  Downloading GitPython-3.1.24-py3-none-any.whl (180 kB)\n",
            "\u001b[K     |████████████████████████████████| 180 kB 51.4 MB/s \n",
            "\u001b[?25hRequirement already satisfied: protobuf>=3.12.0 in /usr/local/lib/python3.7/dist-packages (from wandb) (3.17.3)\n",
            "Requirement already satisfied: six>=1.13.0 in /usr/local/lib/python3.7/dist-packages (from wandb) (1.15.0)\n",
            "Collecting pathtools\n",
            "  Downloading pathtools-0.1.2.tar.gz (11 kB)\n",
            "Collecting gitdb<5,>=4.0.1\n",
            "  Downloading gitdb-4.0.9-py3-none-any.whl (63 kB)\n",
            "\u001b[K     |████████████████████████████████| 63 kB 1.6 MB/s \n",
            "\u001b[?25hRequirement already satisfied: typing-extensions>=3.7.4.3 in /usr/local/lib/python3.7/dist-packages (from GitPython>=1.0.0->wandb) (3.10.0.2)\n",
            "Collecting smmap<6,>=3.0.1\n",
            "  Downloading smmap-5.0.0-py3-none-any.whl (24 kB)\n",
            "Requirement already satisfied: chardet<4,>=3.0.2 in /usr/local/lib/python3.7/dist-packages (from requests<3,>=2.0.0->wandb) (3.0.4)\n",
            "Requirement already satisfied: idna<3,>=2.5 in /usr/local/lib/python3.7/dist-packages (from requests<3,>=2.0.0->wandb) (2.10)\n",
            "Requirement already satisfied: certifi>=2017.4.17 in /usr/local/lib/python3.7/dist-packages (from requests<3,>=2.0.0->wandb) (2021.10.8)\n",
            "Requirement already satisfied: urllib3!=1.25.0,!=1.25.1,<1.26,>=1.21.1 in /usr/local/lib/python3.7/dist-packages (from requests<3,>=2.0.0->wandb) (1.24.3)\n",
            "Requirement already satisfied: termcolor<2.0.0,>=1.1.0 in /usr/local/lib/python3.7/dist-packages (from yaspin>=1.0.0->wandb) (1.1.0)\n",
            "Building wheels for collected packages: subprocess32, pathtools\n",
            "  Building wheel for subprocess32 (setup.py) ... \u001b[?25l\u001b[?25hdone\n",
            "  Created wheel for subprocess32: filename=subprocess32-3.5.4-py3-none-any.whl size=6502 sha256=f6fe9c97755a4d6044fd7af403f2ca0f3189fca1e30290e91a63c36df585492a\n",
            "  Stored in directory: /root/.cache/pip/wheels/50/ca/fa/8fca8d246e64f19488d07567547ddec8eb084e8c0d7a59226a\n",
            "  Building wheel for pathtools (setup.py) ... \u001b[?25l\u001b[?25hdone\n",
            "  Created wheel for pathtools: filename=pathtools-0.1.2-py3-none-any.whl size=8807 sha256=bb5e7da44883a8be58d20f7a7f3b0896a57a72b80edc9574c96309160c771489\n",
            "  Stored in directory: /root/.cache/pip/wheels/3e/31/09/fa59cef12cdcfecc627b3d24273699f390e71828921b2cbba2\n",
            "Successfully built subprocess32 pathtools\n",
            "Installing collected packages: smmap, gitdb, yaspin, subprocess32, shortuuid, sentry-sdk, pathtools, GitPython, docker-pycreds, configparser, wandb\n",
            "Successfully installed GitPython-3.1.24 configparser-5.2.0 docker-pycreds-0.4.0 gitdb-4.0.9 pathtools-0.1.2 sentry-sdk-1.5.1 shortuuid-1.0.8 smmap-5.0.0 subprocess32-3.5.4 wandb-0.12.9 yaspin-2.1.0\n"
          ]
        }
      ],
      "source": [
        "# Setup wandb\n",
        "!pip install wandb"
      ]
    },
    {
      "cell_type": "code",
      "execution_count": 35,
      "metadata": {
        "colab": {
          "base_uri": "https://localhost:8080/"
        },
        "id": "Ll2-5AK02pdG",
        "outputId": "7fd400c7-1e37-4f71-edbb-d4c89daf9ffa"
      },
      "outputs": [
        {
          "name": "stdout",
          "output_type": "stream",
          "text": [
            "\u001b[34m\u001b[1mwandb\u001b[0m: Currently logged in as: \u001b[33mshivanshutyagi\u001b[0m (use `wandb login --relogin` to force relogin)\n"
          ]
        }
      ],
      "source": [
        "!wandb login"
      ]
    },
    {
      "cell_type": "markdown",
      "metadata": {
        "id": "c9IuyxXiA1WL"
      },
      "source": [
        "Finally train a YOLO model, choosing yolov5s (yolo small) model, as we only have 1 class to detect. We provide hyper parameters defined in `hyp.scratch.yaml` file. We choose batch size as 32 for training. We train for 100 epochs on GPU(Tesla K80). "
      ]
    },
    {
      "cell_type": "code",
      "execution_count": 62,
      "metadata": {
        "colab": {
          "base_uri": "https://localhost:8080/"
        },
        "id": "qG8XCLUl2pdH",
        "outputId": "0b05925b-d2e5-4ace-b2e6-01ce4129da14"
      },
      "outputs": [
        {
          "name": "stdout",
          "output_type": "stream",
          "text": [
            "\u001b[34m\u001b[1mwandb\u001b[0m: Currently logged in as: \u001b[33mshivanshutyagi\u001b[0m (use `wandb login --relogin` to force relogin)\n",
            "\u001b[34m\u001b[1mtrain: \u001b[0mweights=yolov5s.pt, cfg=yolov5s.yaml, data=data.yaml, hyp=hyp.scratch.yaml, epochs=100, batch_size=32, imgsz=640, rect=False, resume=True, nosave=False, noval=False, noautoanchor=False, evolve=None, bucket=, cache=None, image_weights=False, device=0, multi_scale=False, single_cls=False, adam=False, sync_bn=False, workers=8, project=runs/train, name=YOLO_ANPR_640_100EPS, exist_ok=False, quad=False, linear_lr=False, label_smoothing=0.0, patience=100, freeze=[0], save_period=-1, local_rank=-1, entity=None, upload_dataset=False, bbox_interval=-1, artifact_alias=latest\n",
            "\u001b[34m\u001b[1mgithub: \u001b[0m⚠️ YOLOv5 is out of date by 1 commit. Use `git pull` or `git clone https://github.com/ultralytics/yolov5` to update.\n",
            "Resuming training from ./runs/train/YOLO_ANPR_640_100EPS/weights/last.pt\n",
            "YOLOv5 🚀 v6.0-156-g95c7bc2 torch 1.10.0+cu111 CUDA:0 (Tesla K80, 11441MiB)\n",
            "\n",
            "\u001b[34m\u001b[1mhyperparameters: \u001b[0mlr0=0.01, lrf=0.1, momentum=0.937, weight_decay=0.0005, warmup_epochs=3.0, warmup_momentum=0.8, warmup_bias_lr=0.1, box=0.05, cls=0.5, cls_pw=1.0, obj=1.0, obj_pw=1.0, iou_t=0.2, anchor_t=4.0, fl_gamma=0.0, hsv_h=0.015, hsv_s=0.7, hsv_v=0.4, degrees=0.0, translate=0.1, scale=0.5, shear=0.0, perspective=0.0, flipud=0.0, fliplr=0.5, mosaic=1.0, mixup=0.0, copy_paste=0.0\n",
            "\u001b[34m\u001b[1mTensorBoard: \u001b[0mStart with 'tensorboard --logdir runs/train', view at http://localhost:6006/\n",
            "Traceback (most recent call last):\n",
            "  File \"train.py\", line 626, in <module>\n",
            "    main(opt)\n",
            "  File \"train.py\", line 523, in main\n",
            "    train(opt.hyp, opt, device, callbacks)\n",
            "  File \"train.py\", line 88, in train\n",
            "    loggers = Loggers(save_dir, weights, opt, hyp, LOGGER)  # loggers instance\n",
            "  File \"/content/yolov5/utils/loggers/__init__.py\", line 70, in __init__\n",
            "    run_id = torch.load(self.weights).get('wandb_id') if self.opt.resume and not wandb_artifact_resume else None\n",
            "  File \"/usr/local/lib/python3.7/dist-packages/torch/serialization.py\", line 607, in load\n",
            "    return _load(opened_zipfile, map_location, pickle_module, **pickle_load_args)\n",
            "  File \"/usr/local/lib/python3.7/dist-packages/torch/serialization.py\", line 882, in _load\n",
            "    result = unpickler.load()\n",
            "  File \"/usr/local/lib/python3.7/dist-packages/torch/serialization.py\", line 857, in persistent_load\n",
            "    load_tensor(data_type, size, key, _maybe_decode_ascii(location))\n",
            "  File \"/usr/local/lib/python3.7/dist-packages/torch/serialization.py\", line 845, in load_tensor\n",
            "    storage = zip_file.get_storage_from_record(name, size, dtype).storage()\n",
            "RuntimeError: PytorchStreamReader failed locating file data/2: file not found\n"
          ]
        }
      ],
      "source": [
        "!python3 train.py --img 640 --cfg yolov5s.yaml --hyp hyp.scratch.yaml --batch 32 --epochs 100 --data data.yaml --device 0 --name YOLO_ANPR_640_100EPS"
      ]
    },
    {
      "cell_type": "markdown",
      "metadata": {
        "id": "xfSoRZFUBgOb"
      },
      "source": [
        "Now, we'll use the best weights stored by YOLO for inference. We'll run `detect.py`, to detect licence plates on the provided test images."
      ]
    },
    {
      "cell_type": "code",
      "execution_count": 67,
      "metadata": {
        "colab": {
          "base_uri": "https://localhost:8080/"
        },
        "id": "cgeE1MmR2pdH",
        "outputId": "e20a5adc-1dad-4392-a9ba-fa64d2b5afa6"
      },
      "outputs": [
        {
          "name": "stdout",
          "output_type": "stream",
          "text": [
            "\u001b[34m\u001b[1mdetect: \u001b[0mweights=['runs/train/YOLO_ANPR_640_100EPS/weights/best.pt'], source=../YOLO5/images/test/, imgsz=[640, 640], conf_thres=0.3, iou_thres=0.45, max_det=1000, device=cpu, view_img=False, save_txt=False, save_conf=False, save_crop=False, nosave=False, classes=None, agnostic_nms=False, augment=False, visualize=False, update=False, project=runs/detect, name=YOLO_ANPR_640_100EPS_det, exist_ok=False, line_thickness=3, hide_labels=False, hide_conf=False, half=False, dnn=False\n",
            "YOLOv5 🚀 v6.0-156-g95c7bc2 torch 1.10.0+cu111 CPU\n",
            "\n",
            "Fusing layers... \n",
            "Model Summary: 213 layers, 7012822 parameters, 0 gradients, 15.8 GFLOPs\n",
            "image 1/169 /content/YOLO5/images/test/car_100.jpg: 480x640 1 license_plate, Done. (0.270s)\n",
            "image 2/169 /content/YOLO5/images/test/car_104.jpg: 320x640 Done. (0.183s)\n",
            "image 3/169 /content/YOLO5/images/test/car_108.jpg: 416x640 1 license_plate, Done. (0.234s)\n",
            "image 4/169 /content/YOLO5/images/test/car_120.jpg: 384x640 1 license_plate, Done. (0.222s)\n",
            "image 5/169 /content/YOLO5/images/test/car_121.jpg: 480x640 2 license_plates, Done. (0.264s)\n",
            "image 6/169 /content/YOLO5/images/test/car_131.jpg: 448x640 1 license_plate, Done. (0.248s)\n",
            "image 7/169 /content/YOLO5/images/test/car_132.jpg: 416x640 1 license_plate, Done. (0.228s)\n",
            "image 8/169 /content/YOLO5/images/test/car_134.jpg: 384x640 1 license_plate, Done. (0.219s)\n",
            "image 9/169 /content/YOLO5/images/test/car_139.jpg: 448x640 2 license_plates, Done. (0.246s)\n",
            "image 10/169 /content/YOLO5/images/test/car_146.jpg: 384x640 1 license_plate, Done. (0.213s)\n",
            "image 11/169 /content/YOLO5/images/test/car_152.jpg: 640x480 1 license_plate, Done. (0.262s)\n",
            "image 12/169 /content/YOLO5/images/test/car_155.jpg: 480x640 1 license_plate, Done. (0.264s)\n",
            "image 13/169 /content/YOLO5/images/test/car_170.jpg: 480x640 1 license_plate, Done. (0.257s)\n",
            "image 14/169 /content/YOLO5/images/test/car_177.jpg: 480x640 2 license_plates, Done. (0.256s)\n",
            "image 15/169 /content/YOLO5/images/test/car_180.jpg: 384x640 1 license_plate, Done. (0.219s)\n",
            "image 16/169 /content/YOLO5/images/test/car_181.jpg: 448x640 1 license_plate, Done. (0.246s)\n",
            "image 17/169 /content/YOLO5/images/test/car_183.jpg: 448x640 1 license_plate, Done. (0.242s)\n",
            "image 18/169 /content/YOLO5/images/test/car_185.jpg: 512x640 1 license_plate, Done. (0.293s)\n",
            "image 19/169 /content/YOLO5/images/test/car_186.jpg: 384x640 1 license_plate, Done. (0.221s)\n",
            "image 20/169 /content/YOLO5/images/test/car_192.jpg: 384x640 1 license_plate, Done. (0.210s)\n",
            "image 21/169 /content/YOLO5/images/test/car_211.jpg: 320x640 1 license_plate, Done. (0.180s)\n",
            "image 22/169 /content/YOLO5/images/test/car_215.jpg: 576x640 1 license_plate, Done. (0.311s)\n",
            "image 23/169 /content/YOLO5/images/test/car_216.jpg: 448x640 1 license_plate, Done. (0.254s)\n",
            "image 24/169 /content/YOLO5/images/test/car_217.jpg: 416x640 1 license_plate, Done. (0.226s)\n",
            "image 25/169 /content/YOLO5/images/test/car_220.jpg: 512x640 1 license_plate, Done. (0.287s)\n",
            "image 26/169 /content/YOLO5/images/test/car_222.jpg: 448x640 1 license_plate, Done. (0.244s)\n",
            "image 27/169 /content/YOLO5/images/test/car_223.jpg: 448x640 1 license_plate, Done. (0.251s)\n",
            "image 28/169 /content/YOLO5/images/test/car_238.jpg: 416x640 1 license_plate, Done. (0.233s)\n",
            "image 29/169 /content/YOLO5/images/test/car_240.jpg: 384x640 1 license_plate, Done. (0.212s)\n",
            "image 30/169 /content/YOLO5/images/test/car_241.jpg: 384x640 1 license_plate, Done. (0.209s)\n",
            "image 31/169 /content/YOLO5/images/test/car_242.jpg: 480x640 Done. (0.273s)\n",
            "image 32/169 /content/YOLO5/images/test/car_243.jpg: 480x640 1 license_plate, Done. (0.263s)\n",
            "image 33/169 /content/YOLO5/images/test/car_249.jpg: 256x640 1 license_plate, Done. (0.151s)\n",
            "image 34/169 /content/YOLO5/images/test/car_251.jpg: 384x640 1 license_plate, Done. (0.215s)\n",
            "image 35/169 /content/YOLO5/images/test/car_254.jpg: 448x640 Done. (0.280s)\n",
            "image 36/169 /content/YOLO5/images/test/car_258.jpg: 512x640 1 license_plate, Done. (0.288s)\n",
            "image 37/169 /content/YOLO5/images/test/car_26.jpg: 544x640 1 license_plate, Done. (0.307s)\n",
            "image 38/169 /content/YOLO5/images/test/car_261.jpg: 480x640 1 license_plate, Done. (0.260s)\n",
            "image 39/169 /content/YOLO5/images/test/car_267.jpg: 384x640 2 license_plates, Done. (0.223s)\n",
            "image 40/169 /content/YOLO5/images/test/car_273.jpg: 480x640 1 license_plate, Done. (0.269s)\n",
            "image 41/169 /content/YOLO5/images/test/car_28.jpg: 384x640 2 license_plates, Done. (0.209s)\n",
            "image 42/169 /content/YOLO5/images/test/car_30.jpg: 352x640 1 license_plate, Done. (0.198s)\n",
            "image 43/169 /content/YOLO5/images/test/car_302.jpg: 544x640 1 license_plate, Done. (0.308s)\n",
            "image 44/169 /content/YOLO5/images/test/car_31.jpg: 384x640 2 license_plates, Done. (0.213s)\n",
            "image 45/169 /content/YOLO5/images/test/car_318.jpg: 480x640 2 license_plates, Done. (0.253s)\n",
            "image 46/169 /content/YOLO5/images/test/car_322.jpg: 448x640 1 license_plate, Done. (0.255s)\n",
            "image 47/169 /content/YOLO5/images/test/car_329.jpg: 448x640 2 license_plates, Done. (0.243s)\n",
            "image 48/169 /content/YOLO5/images/test/car_335.jpg: 640x608 1 license_plate, Done. (0.332s)\n",
            "image 49/169 /content/YOLO5/images/test/car_338.jpg: 480x640 1 license_plate, Done. (0.266s)\n",
            "image 50/169 /content/YOLO5/images/test/car_344.jpg: 384x640 1 license_plate, Done. (0.227s)\n",
            "image 51/169 /content/YOLO5/images/test/car_345.jpg: 512x640 1 license_plate, Done. (0.284s)\n",
            "image 52/169 /content/YOLO5/images/test/car_348.jpg: 384x640 1 license_plate, Done. (0.217s)\n",
            "image 53/169 /content/YOLO5/images/test/car_353.jpg: 544x640 1 license_plate, Done. (0.297s)\n",
            "image 54/169 /content/YOLO5/images/test/car_355.jpg: 416x640 1 license_plate, Done. (0.236s)\n",
            "image 55/169 /content/YOLO5/images/test/car_373.jpg: 448x640 1 license_plate, Done. (0.248s)\n",
            "image 56/169 /content/YOLO5/images/test/car_378.jpg: 448x640 1 license_plate, Done. (0.243s)\n",
            "image 57/169 /content/YOLO5/images/test/car_379.jpg: 320x640 1 license_plate, Done. (0.179s)\n",
            "image 58/169 /content/YOLO5/images/test/car_38.jpg: 384x640 1 license_plate, Done. (0.219s)\n",
            "image 59/169 /content/YOLO5/images/test/car_382.jpg: 448x640 1 license_plate, Done. (0.239s)\n",
            "image 60/169 /content/YOLO5/images/test/car_383.jpg: 480x640 Done. (0.259s)\n",
            "image 61/169 /content/YOLO5/images/test/car_384.jpg: 352x640 1 license_plate, Done. (0.189s)\n",
            "image 62/169 /content/YOLO5/images/test/car_391.jpg: 640x480 1 license_plate, Done. (0.267s)\n",
            "image 63/169 /content/YOLO5/images/test/car_397.jpg: 384x640 1 license_plate, Done. (0.207s)\n",
            "image 64/169 /content/YOLO5/images/test/car_398.jpg: 512x640 1 license_plate, Done. (0.284s)\n",
            "image 65/169 /content/YOLO5/images/test/car_403.jpg: 640x480 1 license_plate, Done. (0.258s)\n",
            "image 66/169 /content/YOLO5/images/test/car_406.jpg: 320x640 1 license_plate, Done. (0.184s)\n",
            "image 67/169 /content/YOLO5/images/test/car_417.jpg: 480x640 1 license_plate, Done. (0.262s)\n",
            "image 68/169 /content/YOLO5/images/test/car_42.jpg: 544x640 1 license_plate, Done. (0.293s)\n",
            "image 69/169 /content/YOLO5/images/test/car_421.jpg: 384x640 1 license_plate, Done. (0.211s)\n",
            "image 70/169 /content/YOLO5/images/test/car_426.jpg: 448x640 1 license_plate, Done. (0.256s)\n",
            "image 71/169 /content/YOLO5/images/test/car_43.jpg: 352x640 1 license_plate, Done. (0.191s)\n",
            "image 72/169 /content/YOLO5/images/test/car_430.jpg: 448x640 2 license_plates, Done. (0.246s)\n",
            "image 73/169 /content/YOLO5/images/test/car_433.jpg: 416x640 Done. (0.228s)\n",
            "image 74/169 /content/YOLO5/images/test/car_434.jpg: 384x640 1 license_plate, Done. (0.213s)\n",
            "image 75/169 /content/YOLO5/images/test/car_435.jpg: 512x640 1 license_plate, Done. (0.311s)\n",
            "image 76/169 /content/YOLO5/images/test/car_437.jpg: 416x640 1 license_plate, Done. (0.231s)\n",
            "image 77/169 /content/YOLO5/images/test/car_443.jpg: 480x640 1 license_plate, Done. (0.255s)\n",
            "image 78/169 /content/YOLO5/images/test/car_447.jpg: 448x640 1 license_plate, Done. (0.255s)\n",
            "image 79/169 /content/YOLO5/images/test/car_450.jpg: 480x640 1 license_plate, Done. (0.262s)\n",
            "image 80/169 /content/YOLO5/images/test/car_451.jpg: 416x640 Done. (0.224s)\n",
            "image 81/169 /content/YOLO5/images/test/car_452.jpg: 384x640 6 license_plates, Done. (0.215s)\n",
            "image 82/169 /content/YOLO5/images/test/car_453.jpg: 512x640 1 license_plate, Done. (0.298s)\n",
            "image 83/169 /content/YOLO5/images/test/car_455.jpg: 416x640 1 license_plate, Done. (0.232s)\n",
            "image 84/169 /content/YOLO5/images/test/car_457.jpg: 448x640 1 license_plate, Done. (0.241s)\n",
            "image 85/169 /content/YOLO5/images/test/car_46.jpg: 544x640 1 license_plate, Done. (0.293s)\n",
            "image 86/169 /content/YOLO5/images/test/car_460.jpg: 448x640 3 license_plates, Done. (0.252s)\n",
            "image 87/169 /content/YOLO5/images/test/car_464.jpg: 448x640 1 license_plate, Done. (0.240s)\n",
            "image 88/169 /content/YOLO5/images/test/car_467.jpg: 384x640 1 license_plate, Done. (0.209s)\n",
            "image 89/169 /content/YOLO5/images/test/car_468.jpg: 448x640 1 license_plate, Done. (0.249s)\n",
            "image 90/169 /content/YOLO5/images/test/car_469.jpg: 480x640 1 license_plate, Done. (0.273s)\n",
            "image 91/169 /content/YOLO5/images/test/car_472.jpg: 384x640 1 license_plate, Done. (0.212s)\n",
            "image 92/169 /content/YOLO5/images/test/car_478.jpg: 448x640 3 license_plates, Done. (0.249s)\n",
            "image 93/169 /content/YOLO5/images/test/car_48.jpg: 448x640 1 license_plate, Done. (0.251s)\n",
            "image 94/169 /content/YOLO5/images/test/car_484.jpg: 384x640 1 license_plate, Done. (0.216s)\n",
            "image 95/169 /content/YOLO5/images/test/car_485.jpg: 480x640 1 license_plate, Done. (0.258s)\n",
            "image 96/169 /content/YOLO5/images/test/car_486.jpg: 416x640 1 license_plate, Done. (0.226s)\n",
            "image 97/169 /content/YOLO5/images/test/car_494.jpg: 480x640 1 license_plate, Done. (0.262s)\n",
            "image 98/169 /content/YOLO5/images/test/car_50.jpg: 640x480 1 license_plate, Done. (0.281s)\n",
            "image 99/169 /content/YOLO5/images/test/car_508.jpg: 448x640 1 license_plate, Done. (0.239s)\n",
            "image 100/169 /content/YOLO5/images/test/car_510.jpg: 384x640 1 license_plate, Done. (0.216s)\n",
            "image 101/169 /content/YOLO5/images/test/car_515.jpg: 352x640 1 license_plate, Done. (0.197s)\n",
            "image 102/169 /content/YOLO5/images/test/car_516.jpg: 480x640 1 license_plate, Done. (0.272s)\n",
            "image 103/169 /content/YOLO5/images/test/car_517.jpg: 448x640 1 license_plate, Done. (0.245s)\n",
            "image 104/169 /content/YOLO5/images/test/car_528.jpg: 384x640 Done. (0.211s)\n",
            "image 105/169 /content/YOLO5/images/test/car_529.jpg: 448x640 1 license_plate, Done. (0.250s)\n",
            "image 106/169 /content/YOLO5/images/test/car_538.jpg: 320x640 1 license_plate, Done. (0.174s)\n",
            "image 107/169 /content/YOLO5/images/test/car_545.jpg: 480x640 1 license_plate, Done. (0.270s)\n",
            "image 108/169 /content/YOLO5/images/test/car_547.jpg: 576x640 1 license_plate, Done. (0.313s)\n",
            "image 109/169 /content/YOLO5/images/test/car_548.jpg: 448x640 2 license_plates, Done. (0.242s)\n",
            "image 110/169 /content/YOLO5/images/test/car_549.jpg: 384x640 1 license_plate, Done. (0.222s)\n",
            "image 111/169 /content/YOLO5/images/test/car_550.jpg: 512x640 1 license_plate, Done. (0.288s)\n",
            "image 112/169 /content/YOLO5/images/test/car_553.jpg: 480x640 1 license_plate, Done. (0.252s)\n",
            "image 113/169 /content/YOLO5/images/test/car_556.jpg: 576x640 1 license_plate, Done. (0.328s)\n",
            "image 114/169 /content/YOLO5/images/test/car_564.jpg: 416x640 1 license_plate, Done. (0.231s)\n",
            "image 115/169 /content/YOLO5/images/test/car_565.jpg: 384x640 1 license_plate, Done. (0.213s)\n",
            "image 116/169 /content/YOLO5/images/test/car_567.jpg: 480x640 3 license_plates, Done. (0.262s)\n",
            "image 117/169 /content/YOLO5/images/test/car_568.jpg: 480x640 1 license_plate, Done. (0.259s)\n",
            "image 118/169 /content/YOLO5/images/test/car_570.jpg: 448x640 2 license_plates, Done. (0.252s)\n",
            "image 119/169 /content/YOLO5/images/test/car_571.jpg: 352x640 1 license_plate, Done. (0.203s)\n",
            "image 120/169 /content/YOLO5/images/test/car_573.jpg: 480x640 1 license_plate, Done. (0.262s)\n",
            "image 121/169 /content/YOLO5/images/test/car_575.jpg: 448x640 Done. (0.248s)\n",
            "image 122/169 /content/YOLO5/images/test/car_577.jpg: 320x640 1 license_plate, Done. (0.186s)\n",
            "image 123/169 /content/YOLO5/images/test/car_578.jpg: 448x640 1 license_plate, Done. (0.245s)\n",
            "image 124/169 /content/YOLO5/images/test/car_58.jpg: 640x640 1 license_plate, Done. (0.347s)\n",
            "image 125/169 /content/YOLO5/images/test/car_581.jpg: 448x640 1 license_plate, Done. (0.251s)\n",
            "image 126/169 /content/YOLO5/images/test/car_583.jpg: 416x640 1 license_plate, Done. (0.236s)\n",
            "image 127/169 /content/YOLO5/images/test/car_585.jpg: 384x640 1 license_plate, Done. (0.215s)\n",
            "image 128/169 /content/YOLO5/images/test/car_587.jpg: 448x640 1 license_plate, Done. (0.248s)\n",
            "image 129/169 /content/YOLO5/images/test/car_588.jpg: 384x640 1 license_plate, Done. (0.213s)\n",
            "image 130/169 /content/YOLO5/images/test/car_589.jpg: 640x480 1 license_plate, Done. (0.273s)\n",
            "image 131/169 /content/YOLO5/images/test/car_591.jpg: 448x640 1 license_plate, Done. (0.255s)\n",
            "image 132/169 /content/YOLO5/images/test/car_594.jpg: 448x640 1 license_plate, Done. (0.239s)\n",
            "image 133/169 /content/YOLO5/images/test/car_598.jpg: 480x640 1 license_plate, Done. (0.270s)\n",
            "image 134/169 /content/YOLO5/images/test/car_6.jpg: 544x640 1 license_plate, Done. (0.315s)\n",
            "image 135/169 /content/YOLO5/images/test/car_60.jpg: 384x640 1 license_plate, Done. (0.219s)\n",
            "image 136/169 /content/YOLO5/images/test/car_604.jpg: 448x640 1 license_plate, Done. (0.244s)\n",
            "image 137/169 /content/YOLO5/images/test/car_609.jpg: 480x640 1 license_plate, Done. (0.274s)\n",
            "image 138/169 /content/YOLO5/images/test/car_611.jpg: 352x640 1 license_plate, Done. (0.192s)\n",
            "image 139/169 /content/YOLO5/images/test/car_612.jpg: 480x640 1 license_plate, Done. (0.264s)\n",
            "image 140/169 /content/YOLO5/images/test/car_613.jpg: 448x640 1 license_plate, Done. (0.251s)\n",
            "image 141/169 /content/YOLO5/images/test/car_62.jpg: 320x640 1 license_plate, Done. (0.175s)\n",
            "image 142/169 /content/YOLO5/images/test/car_622.jpg: 416x640 1 license_plate, Done. (0.238s)\n",
            "image 143/169 /content/YOLO5/images/test/car_623.jpg: 480x640 1 license_plate, Done. (0.265s)\n",
            "image 144/169 /content/YOLO5/images/test/car_627.jpg: 480x640 2 license_plates, Done. (0.266s)\n",
            "image 145/169 /content/YOLO5/images/test/car_63.jpg: 640x448 1 license_plate, Done. (0.268s)\n",
            "image 146/169 /content/YOLO5/images/test/car_633.jpg: 640x480 1 license_plate, Done. (0.257s)\n",
            "image 147/169 /content/YOLO5/images/test/car_636.jpg: 384x640 1 license_plate, Done. (0.215s)\n",
            "image 148/169 /content/YOLO5/images/test/car_637.jpg: 448x640 2 license_plates, Done. (0.241s)\n",
            "image 149/169 /content/YOLO5/images/test/car_644.jpg: 448x640 1 license_plate, Done. (0.259s)\n",
            "image 150/169 /content/YOLO5/images/test/car_648.jpg: 448x640 1 license_plate, Done. (0.242s)\n",
            "image 151/169 /content/YOLO5/images/test/car_649.jpg: 384x640 1 license_plate, Done. (0.212s)\n",
            "image 152/169 /content/YOLO5/images/test/car_653.jpg: 480x640 1 license_plate, Done. (0.264s)\n",
            "image 153/169 /content/YOLO5/images/test/car_655.jpg: 384x640 1 license_plate, Done. (0.208s)\n",
            "image 154/169 /content/YOLO5/images/test/car_656.jpg: 576x640 1 license_plate, Done. (0.317s)\n",
            "image 155/169 /content/YOLO5/images/test/car_657.jpg: 480x640 1 license_plate, Done. (0.258s)\n",
            "image 156/169 /content/YOLO5/images/test/car_662.jpg: 320x640 1 license_plate, Done. (0.183s)\n",
            "image 157/169 /content/YOLO5/images/test/car_664.jpg: 480x640 1 license_plate, Done. (0.270s)\n",
            "image 158/169 /content/YOLO5/images/test/car_665.jpg: 384x640 1 license_plate, Done. (0.208s)\n",
            "image 159/169 /content/YOLO5/images/test/car_666.jpg: 640x512 1 license_plate, Done. (0.292s)\n",
            "image 160/169 /content/YOLO5/images/test/car_667.jpg: 384x640 1 license_plate, Done. (0.226s)\n",
            "image 161/169 /content/YOLO5/images/test/car_68.jpg: 448x640 3 license_plates, Done. (0.250s)\n",
            "image 162/169 /content/YOLO5/images/test/car_7.jpg: 640x640 1 license_plate, Done. (0.352s)\n",
            "image 163/169 /content/YOLO5/images/test/car_77.jpg: 224x640 1 license_plate, Done. (0.133s)\n",
            "image 164/169 /content/YOLO5/images/test/car_79.jpg: 480x640 1 license_plate, Done. (0.263s)\n",
            "image 165/169 /content/YOLO5/images/test/car_80.jpg: 512x640 1 license_plate, Done. (0.298s)\n",
            "image 166/169 /content/YOLO5/images/test/car_87.jpg: 448x640 1 license_plate, Done. (0.243s)\n",
            "image 167/169 /content/YOLO5/images/test/car_95.jpg: 640x640 1 license_plate, Done. (0.345s)\n",
            "image 168/169 /content/YOLO5/images/test/car_96.jpg: 256x640 1 license_plate, Done. (0.148s)\n",
            "image 169/169 /content/YOLO5/images/test/car_98.jpg: 480x640 1 license_plate, Done. (0.265s)\n",
            "Speed: 1.6ms pre-process, 245.5ms inference, 0.7ms NMS per image at shape (1, 3, 640, 640)\n",
            "Results saved to \u001b[1mruns/detect/YOLO_ANPR_640_100EPS_det4\u001b[0m\n"
          ]
        }
      ],
      "source": [
        "!python3 detect.py --source ../YOLO5/images/test/ --weights runs/train/YOLO_ANPR_640_100EPS/weights/best.pt --conf 0.3 --device cpu --name YOLO_ANPR_640_100EPS_det"
      ]
    },
    {
      "cell_type": "markdown",
      "metadata": {},
      "source": [
        "Plot one random image from the testset inferenced images"
      ]
    },
    {
      "cell_type": "code",
      "execution_count": 53,
      "metadata": {
        "colab": {
          "base_uri": "https://localhost:8080/",
          "height": 258
        },
        "id": "WyvdVJrF2pdH",
        "outputId": "0daf8d38-f62d-401d-d9aa-3db2a3d8cc3e"
      },
      "outputs": [
        {
          "data": {
            "text/plain": [
              "<matplotlib.image.AxesImage at 0x7fb9695127d0>"
            ]
          },
          "execution_count": 53,
          "metadata": {},
          "output_type": "execute_result"
        },
        {
          "data": {
            "image/png": "[encoded data removed]",
            "text/plain": [
              "<Figure size 432x288 with 1 Axes>"
            ]
          },
          "metadata": {
            "needs_background": "light"
          },
          "output_type": "display_data"
        }
      ],
      "source": [
        "detections_dir = \"runs/detect/YOLO_ANPR_640_100EPS_det/\"\n",
        "detection_images = [os.path.join(detections_dir, x) for x in os.listdir(detections_dir)]\n",
        "\n",
        "random_detection_image = Image.open(random.choice(detection_images))\n",
        "plt.imshow(np.array(random_detection_image))"
      ]
    },
    {
      "cell_type": "markdown",
      "metadata": {
        "id": "RjxI3kJvB402"
      },
      "source": [
        "Also, find the mAP for the test split."
      ]
    },
    {
      "cell_type": "code",
      "execution_count": 66,
      "metadata": {
        "colab": {
          "base_uri": "https://localhost:8080/"
        },
        "id": "QVipZ0um2pdH",
        "outputId": "cc47beff-e065-444e-a8a3-a67ae232525a"
      },
      "outputs": [
        {
          "name": "stdout",
          "output_type": "stream",
          "text": [
            "\u001b[34m\u001b[1mval: \u001b[0mdata=/content/yolov5/data/data.yaml, weights=['runs/train/YOLO_ANPR_640_100EPS/weights/best.pt'], batch_size=32, imgsz=640, conf_thres=0.001, iou_thres=0.6, task=test, device=cpu, workers=8, single_cls=False, augment=False, verbose=False, save_txt=False, save_hybrid=False, save_conf=False, save_json=False, project=runs/val, name=yolo_det, exist_ok=False, half=False, dnn=False\n",
            "YOLOv5 🚀 v6.0-156-g95c7bc2 torch 1.10.0+cu111 CPU\n",
            "\n",
            "Fusing layers... \n",
            "Model Summary: 213 layers, 7012822 parameters, 0 gradients, 15.8 GFLOPs\n",
            "\u001b[34m\u001b[1mtest: \u001b[0mScanning '../YOLO5/labels/test.cache' images and labels... 169 found, 0 missing, 0 empty, 0 corrupted: 100% 169/169 [00:00<?, ?it/s]\n",
            "               Class     Images     Labels          P          R     mAP@.5 mAP@.5:.95: 100% 6/6 [00:57<00:00,  9.58s/it]\n",
            "                 all        169        183      0.886      0.847      0.884      0.469\n",
            "Speed: 5.1ms pre-process, 327.3ms inference, 0.8ms NMS per image at shape (32, 3, 640, 640)\n",
            "Results saved to \u001b[1mruns/val/yolo_det2\u001b[0m\n"
          ]
        }
      ],
      "source": [
        "!python val.py --weights runs/train/YOLO_ANPR_640_100EPS/weights/best.pt --device cpu --data data.yaml --task test --name yolo_det"
      ]
    },
    {
      "cell_type": "markdown",
      "metadata": {},
      "source": [
        "We get an mAP of 0.884. which is >0.7. 🎉🎉"
      ]
    },
    {
      "cell_type": "code",
      "execution_count": null,
      "metadata": {
        "id": "7T4uw1LcHdkD"
      },
      "outputs": [],
      "source": []
    }
  ],
  "metadata": {
    "accelerator": "GPU",
    "colab": {
      "name": "Exp02.ipynb",
      "provenance": []
    },
    "interpreter": {
      "hash": "916dbcbb3f70747c44a77c7bcd40155683ae19c65e1c03b4aa3499c5328201f1"
    },
    "kernelspec": {
      "display_name": "Python 3.8.10 64-bit",
      "language": "python",
      "name": "python3"
    },
    "language_info": {
      "codemirror_mode": {
        "name": "ipython",
        "version": 3
      },
      "file_extension": ".py",
      "mimetype": "text/x-python",
      "name": "python",
      "nbconvert_exporter": "python",
      "pygments_lexer": "ipython3",
      "version": "3.8.10"
    },
    "orig_nbformat": 4
  },
  "nbformat": 4,
  "nbformat_minor": 0
}
